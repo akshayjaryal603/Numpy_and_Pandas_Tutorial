import numpy as np
import pandas as pd
import matplotlib.pyplot as plt
##s=pd.Series([1,2,3,np.nan,6,8])
##print(s)

dates=pd.date_range('20130101',periods=6)
#print(dates)

df=pd.DataFrame(np.random.randn(6,4),index=dates,columns=list('ABCD'))
#print(df)

df2=pd.DataFrame({'A':1.,
                  'B':pd.Timestamp('20130102'),
                  'C':pd.Series(1,index=list(range(4)),dtype='float32'),
                  'D':np.array([3]*4,dtype='int32'),
                  'E':pd.Categorical(['test','train','test','train']),
                  'F':'FOO'})
#print(df2)
#print(df2.dtypes)
#print(df2.add)
#print(df.sort_values(by='B'))
#print(df.loc[dates[0]])
#print(df.iloc[3])
#print(df.iat[1,1])
#print(df[df.A>0])
df3=df.copy()
df3["E"]=['one','two','three','four','five','six']
#print(df3)
print(df3['A'][df3["E"].isin(["two","four"])])
#print(df[df3.E=="two"])
s1=pd.Series([1,2,3,4,5,6],index=pd.date_range('20130102',periods=6))
#print(s1)
df['F']=s1
#print(df)
df.at[dates[0],'A']=0
#df.iat[0,1]=0
#print(df)
df.loc[:,'D']=np.array([5]*len(df))
#print(df)
df4=df.copy()
df4[df4>0]=-df4
#print(df4)
df4=df.reindex(index=dates[0:4],columns=list(df.columns)+['E'])
df4.loc[dates[0]:dates[1],'E']=1
#print(df4)
#print(df4.fillna(value=5))
#print(pd.isna(df4))
#print(df)
#print(df.mean())
#print(df.mean(1))
#s=pd.Series([1,3,5,np.nan,6,8],index=dates).shift(2)
#print(s)
#df.sub(s,axis='index')
#print(df.apply(np.cumsum))
#print(df.apply(lambda x:x.max()-x.min()))
#s=pd.Series(np.random.randint(1,7,10))
#print(s)
#print(s.value_counts())

#s=pd.Series(['A','B','C','AaBB','BAcA',np.nan,'CAba','DoG','CAt'])
#print(s.str.lower())
#print(s.str.upper())

#df=pd.DataFrame(np.random.randn(10,4),columns=['A','B','C','D'])
#print(df)
#pieces=[df[:3],df[3:7],df[7:]]
#print(pieces)
#print(pd.concat(pieces))

#s=df.iloc[3]
#print(s)
#print(df.append(s,ignore_index=True))

df=pd.DataFrame({'A':['foo','bar','foo','bar','foo','foo','bar','bar'],
                 'B':['one','two','three','four','five','six','seven','eight'],
                 'C':np.random.randn(8),
                 'D':np.random.randn(8)})
#print(df)
#print(df.groupby('A').sum())
#print(df.groupby(['A','B']).sum())

tuples=list(zip(*[['bar','bar','baz','baz','foo','foo','qux','qux'],
                  ['one','two','one','two','one','two','one','two']]))
index=pd.MultiIndex.from_tuples(tuples,names=['first','second'])
df=pd.DataFrame(np.random.randn(8,2),index=index,columns=['A','B'])
#df2=df[:4]
#print(df)
stacked=df.stack()
#print(stacked)
#print(stacked.unstack())
#print(stacked.unstack(1))
#print(stacked.unstack(0))

df = pd.DataFrame({'A': ['one', 'one', 'two', 'three'] * 3,'B': ['A', 'B', 'C'] * 4,'C': ['foo', 'foo', 'foo', 'bar', 'bar', 'bar'] * 2,'D': np.random.randn(12),'E': np.random.randn(12)})
#print(df)
#print(pd.pivot_table(df,values='D',index=['A','B'],columns=['C']))

###############################   time series
#rng=pd.date_range('1/1/2012',periods=100)
#ts=pd.Series(np.random.randint(0,500,len(rng)),index=rng)
#print(ts.resample('5Min').sum())

rng=pd.date_range('3/6/2012 00:00',periods=5,freq='D')
ts=pd.Series(np.random.randn(len(rng)),rng)
#print(ts)
ts_utc=ts.tz_localize('UTC')
#print(ts_utc)
#print(ts_utc.tz_convert('US/Eastern'))

rng = pd.date_range('1/1/2012', periods=5, freq='M')
ts = pd.Series(np.random.randn(len(rng)), index=rng)
#print(ts)
ps=ts.to_period()
#print(ps)
#print(ps.to_timestamp())

prng = pd.period_range('1990Q1', '2000Q4', freq='Q-NOV')
#print(prng)
ts = pd.Series(np.random.randn(len(prng)), prng)
#print(ts)
ts.index = (prng.asfreq('M', 'e') + 1).asfreq('H', 's') + 9
#print(ts.head())

df = pd.DataFrame({"id": [1, 2, 3, 4, 5, 6],"raw_grade": ['a', 'b', 'b', 'a', 'a', 'e']})

df['grade']=df['raw_grade'].astype('category')
#print(df['grade'])
df["grade"].cat.categories = ["very good", "good", "very bad"]
df["grade"] = df["grade"].cat.set_categories(["very bad", "bad", "medium","good", "very good"])
#print(df['grade'])
#print(df.sort_values(by='grade'))
#print(df.groupby('grade').size())

ts = pd.Series(np.random.randn(1000),index=pd.date_range('1/1/2000', periods=1000))
ts = ts.cumsum()
#plt.plot(ts)
#plt.show()
df = pd.DataFrame(np.random.randn(1000, 4), index=ts.index,columns=['A', 'B', 'C', 'D'])
df=df.cumsum()
#plt.figure()
df.plot()
plt.legend(loc='best')
plt.show()
